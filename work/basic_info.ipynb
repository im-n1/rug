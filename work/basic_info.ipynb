{
 "cells": [
  {
   "cell_type": "code",
   "execution_count": 4,
   "metadata": {},
   "outputs": [],
   "source": [
    "import httpx\n",
    "import asyncio\n",
    "import time"
   ]
  },
  {
   "cell_type": "code",
   "execution_count": 35,
   "metadata": {},
   "outputs": [
    {
     "data": {
      "text/plain": [
       "{'company_name': 'Qualcomm',\n",
       " 'market': 'NASDAQ',\n",
       " 'description': 'Qualcomm Inc develops digital communication technology called CDMA (Code Division Multiple Access), & owns intellectual property applicable to products that implement any version of CDMA including patents, patent applications & trade secrets.',\n",
       " 'market_cap': '100.62B',\n",
       " 'has_dividends': True,\n",
       " 'similar_stocks': [{'ticker': 'MSFT', 'company_name': 'Microsoft'},\n",
       "  {'ticker': 'SNE', 'company_name': 'Sony'},\n",
       "  {'ticker': 'LEA', 'company_name': 'Lear'},\n",
       "  {'ticker': 'INTC', 'company_name': 'Intel'},\n",
       "  {'ticker': 'LNVGY', 'company_name': 'Lenovo Group'}],\n",
       " 'yoy_change': 75.49840510366826,\n",
       " 'year_low': 51.75,\n",
       " 'year_high': 96.17,\n",
       " 'pe_ratio': 25.5,\n",
       " 'eps': 3.52}"
      ]
     },
     "execution_count": 35,
     "metadata": {},
     "output_type": "execute_result"
    }
   ],
   "source": [
    "symbol = \"QCOM\"\n",
    "\n",
    "async def download_basics():\n",
    "    \n",
    "    async with httpx.AsyncClient() as client:\n",
    "        \n",
    "        start = time.time()\n",
    "        response = await client.get(f\"https://www.tipranks.com/api/stocks/getData/?name={symbol}&benchmark=1&period=3&break=1582103013435\")\n",
    "        json_data = response.json()\n",
    "        \n",
    "        return {\n",
    "            \"company_name\": json_data[\"companyName\"],\n",
    "            \"market\": json_data[\"market\"],\n",
    "            \"description\": json_data[\"description\"],\n",
    "            \"market_cap\": json_data[\"marketCap\"],\n",
    "            \"has_dividends\": json_data[\"hasDividends\"],\n",
    "            \"similar_stocks\": [{\"ticker\": stock[\"ticker\"], \"company_name\": stock[\"name\"]} for stock in json_data[\"similarStocks\"]],\n",
    "            \"yoy_change\": json_data[\"momentum\"][\"momentum\"] * 100,\n",
    "        }\n",
    "\n",
    "async def download_additionals():\n",
    "    \n",
    "    async with httpx.AsyncClient() as client:\n",
    "        \n",
    "        response = await client.get(f\"https://market.tipranks.com/api/details/GetRealTimeQuotes/?tickers={symbol}&break=1582103013582\")\n",
    "        json_data = response.json()\n",
    "        \n",
    "        return {\n",
    "            \"year_low\": json_data[0][\"yLow\"],\n",
    "            \"year_high\": json_data[0][\"yHigh\"],\n",
    "            \"pe_ratio\": json_data[0][\"pe\"],\n",
    "            \"market_cap\": json_data[0][\"marketCap\"],\n",
    "            \"eps\": json_data[0][\"eps\"],\n",
    "        }\n",
    "    \n",
    "basic, additionals = await asyncio.gather(download_basics(), download_additionals())\n",
    "basic.update(additionals)\n",
    "\n",
    "basic"
   ]
  }
 ],
 "metadata": {
  "kernelspec": {
   "display_name": "Python 3",
   "language": "python",
   "name": "python3"
  },
  "language_info": {
   "codemirror_mode": {
    "name": "ipython",
    "version": 3
   },
   "file_extension": ".py",
   "mimetype": "text/x-python",
   "name": "python",
   "nbconvert_exporter": "python",
   "pygments_lexer": "ipython3",
   "version": "3.7.4"
  }
 },
 "nbformat": 4,
 "nbformat_minor": 4
}
