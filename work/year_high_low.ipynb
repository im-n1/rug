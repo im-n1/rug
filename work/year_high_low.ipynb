{
 "cells": [
  {
   "cell_type": "code",
   "execution_count": 1,
   "metadata": {},
   "outputs": [],
   "source": [
    "import httpx"
   ]
  },
  {
   "cell_type": "code",
   "execution_count": 6,
   "metadata": {},
   "outputs": [],
   "source": [
    "ticker = \"QCOM\"\n",
    "response = httpx.get(f\"https://www.tipranks.com/api/stocks/getChartPageData/?ticker={ticker}&benchmark=1&period=3&break=1582054588240\")"
   ]
  },
  {
   "cell_type": "code",
   "execution_count": 8,
   "metadata": {},
   "outputs": [
    {
     "data": {
      "text/plain": [
       "[{'year': 2013, 'high': 74.32, 'low': 59.02},\n",
       " {'year': 2014, 'high': 81.97, 'low': 67.67},\n",
       " {'year': 2015, 'high': 75.3, 'low': 45.93},\n",
       " {'year': 2016, 'high': 71.62, 'low': 42.24},\n",
       " {'year': 2017, 'high': 69.28, 'low': 48.92},\n",
       " {'year': 2018, 'high': 76.5, 'low': 48.56},\n",
       " {'year': 2019, 'high': 94.11, 'low': 49.1},\n",
       " {'year': 2020, 'high': 96.17, 'low': 85.04}]"
      ]
     },
     "execution_count": 8,
     "metadata": {},
     "output_type": "execute_result"
    }
   ],
   "source": [
    "data = response.json()\n",
    "data[\"historicalHighLow\"]"
   ]
  },
  {
   "cell_type": "code",
   "execution_count": null,
   "metadata": {},
   "outputs": [],
   "source": []
  }
 ],
 "metadata": {
  "kernelspec": {
   "display_name": "Python 3",
   "language": "python",
   "name": "python3"
  },
  "language_info": {
   "codemirror_mode": {
    "name": "ipython",
    "version": 3
   },
   "file_extension": ".py",
   "mimetype": "text/x-python",
   "name": "python",
   "nbconvert_exporter": "python",
   "pygments_lexer": "ipython3",
   "version": "3.7.4"
  }
 },
 "nbformat": 4,
 "nbformat_minor": 4
}
