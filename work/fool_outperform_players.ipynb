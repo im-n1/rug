{
 "cells": [
  {
   "cell_type": "code",
   "execution_count": 1,
   "metadata": {},
   "outputs": [],
   "source": [
    "import httpx\n",
    "import asyncio\n",
    "import pandas as pd\n",
    "import time"
   ]
  },
  {
   "cell_type": "code",
   "execution_count": null,
   "metadata": {},
   "outputs": [],
   "source": [
    "async def get_top_outperform_players_html(pagenum):\n",
    "    \n",
    "    async with httpx.AsyncClient() as client:\n",
    "        \n",
    "        start = time.time()\n",
    "        response = await client.get(f\"https://caps.fool.com/Ajax/Members/GetMemberAverageReturnStats.aspx?rand=1474364690&objid=divTopTenListforTickersAjax&pagenum={pagenum}&filter=36&sortcol=53&sortdir=1&pgid=0&ref=https%3A//caps.fool.com/stats.aspx\")\n",
    "        return response\n",
    "    \n",
    "#top underperform players: https://caps.fool.com/Ajax/Members/GetMemberAverageReturnStats.aspx?rand=781980374&objid=divTopTenListforTickersAjax&pagenum=1&filter=37&sortcol=54&sortdir=1&pgid=0&ref=https%3A//caps.fool.com/stats.aspx\n",
    "#highest outperform return: https://caps.fool.com/Ajax/Members/GetMemberAverageReturnStats.aspx?rand=1881210705&objid=divTopTenListforTickersAjax&pagenum=1&filter=39&sortcol=56&sortdir=1&pgid=0&ref=https%3A//caps.fool.com/stats.aspx\n",
    "#highest underperform return: https://caps.fool.com/Ajax/Members/GetMemberAverageReturnStats.aspx?rand=1292128740&objid=divTopTenListforTickersAjax&pagenum=1&filter=120&sortcol=57&sortdir=1&pgid=0&ref=https%3A//caps.fool.com/stats.aspx"
   ]
  }
 ],
 "metadata": {
  "kernelspec": {
   "display_name": "Python 3",
   "language": "python",
   "name": "python3"
  },
  "language_info": {
   "codemirror_mode": {
    "name": "ipython",
    "version": 3
   },
   "file_extension": ".py",
   "mimetype": "text/x-python",
   "name": "python",
   "nbconvert_exporter": "python",
   "pygments_lexer": "ipython3",
   "version": "3.7.4"
  }
 },
 "nbformat": 4,
 "nbformat_minor": 4
}
