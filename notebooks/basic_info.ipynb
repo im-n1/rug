{
 "cells": [
  {
   "cell_type": "code",
   "execution_count": 1,
   "metadata": {},
   "outputs": [],
   "source": [
    "import httpx\n",
    "import asyncio\n",
    "import time"
   ]
  },
  {
   "cell_type": "code",
   "execution_count": 11,
   "metadata": {},
   "outputs": [
    {
     "data": {
      "text/plain": [
       "{'company_name': 'Tesla',\n",
       " 'market': 'NASDAQ',\n",
       " 'description': 'Tesla Motors,inc., designs, develops, manufactures and sells high-performance fully electric vehicles and advanced electric vehicle powertrain components.',\n",
       " 'market_cap': '166.37B',\n",
       " 'has_dividends': False,\n",
       " 'similar_stocks': [{'ticker': 'DDAIF', 'company_name': 'Daimler'},\n",
       "  {'ticker': 'GM', 'company_name': 'General Motors'},\n",
       "  {'ticker': 'F', 'company_name': 'Ford Motor'},\n",
       "  {'ticker': 'HMC', 'company_name': 'Honda Motor Company'},\n",
       "  {'ticker': 'TM', 'company_name': 'Toyota Motor'},\n",
       "  {'ticker': 'BAMXF',\n",
       "   'company_name': 'Bayerische Motoren Werke Aktiengesellschaft'},\n",
       "  {'ticker': 'NSANY', 'company_name': 'Nissan'}],\n",
       " 'yoy_change': 203.21919619249073,\n",
       " 'year_low': 177.0,\n",
       " 'year_high': 968.99,\n",
       " 'pe_ratio': 0.0,\n",
       " 'eps': -5.01,\n",
       " 'address': '3500 Deer Creek Road',\n",
       " 'city': 'Palo Alto',\n",
       " 'country': 'USA',\n",
       " 'website': 'https://www.tesla.com',\n",
       " 'ipo': '2010-06-29'}"
      ]
     },
     "execution_count": 11,
     "metadata": {},
     "output_type": "execute_result"
    }
   ],
   "source": [
    "symbol = \"TSLA\"\n",
    "\n",
    "async def download_basics():\n",
    "    \n",
    "    async with httpx.AsyncClient() as client:\n",
    "        \n",
    "        start = time.time()\n",
    "        response = await client.get(f\"https://www.tipranks.com/api/stocks/getData/?name={symbol}\")\n",
    "        json_data = response.json()\n",
    "        \n",
    "        return {\n",
    "            \"company_name\": json_data[\"companyName\"],\n",
    "            \"market\": json_data[\"market\"],\n",
    "            \"description\": json_data[\"description\"],\n",
    "            \"market_cap\": json_data[\"marketCap\"],\n",
    "            \"has_dividends\": json_data[\"hasDividends\"],\n",
    "            \"similar_stocks\": [{\"ticker\": stock[\"ticker\"], \"company_name\": stock[\"name\"]} for stock in json_data[\"similarStocks\"]],\n",
    "            \"yoy_change\": json_data[\"momentum\"][\"momentum\"] * 100,\n",
    "        }\n",
    "\n",
    "async def download_additionals():\n",
    "    \n",
    "    async with httpx.AsyncClient() as client:\n",
    "        \n",
    "        response = await client.get(f\"https://market.tipranks.com/api/details/GetRealTimeQuotes/?tickers={symbol}&break=1582103013582\")\n",
    "        json_data = response.json()\n",
    "        \n",
    "        return {\n",
    "            \"year_low\": json_data[0][\"yLow\"],\n",
    "            \"year_high\": json_data[0][\"yHigh\"],\n",
    "            \"pe_ratio\": json_data[0][\"pe\"],\n",
    "            \"market_cap\": json_data[0][\"marketCap\"],\n",
    "            \"eps\": json_data[0][\"eps\"],\n",
    "        }\n",
    "    \n",
    "async def download_address_and_ipo():\n",
    "    \n",
    "    async with httpx.AsyncClient() as client:\n",
    "        \n",
    "        response = await client.get(f\"https://finnhub.io/api/v1/stock/profile?symbol={symbol}\")\n",
    "        json_data = response.json()\n",
    "        \n",
    "        return {\n",
    "            \"address\": json_data[\"address\"],\n",
    "            \"city\": json_data[\"city\"],\n",
    "            \"country\": json_data[\"country\"],\n",
    "            \"website\": json_data[\"weburl\"] if json_data[\"weburl\"].startswith(\"https\") else \"https://\" + json_data[\"weburl\"],\n",
    "            \"ipo\": json_data[\"ipo\"],\n",
    "        }\n",
    "    \n",
    "basic, additionals, address_and_ipo = await asyncio.gather(download_basics(), download_additionals(), download_address_and_ipo())\n",
    "basic.update(additionals)\n",
    "basic.update(address_and_ipo)\n",
    "\n",
    "basic"
   ]
  }
 ],
 "metadata": {
  "kernelspec": {
   "display_name": "Python 3",
   "language": "python",
   "name": "python3"
  },
  "language_info": {
   "codemirror_mode": {
    "name": "ipython",
    "version": 3
   },
   "file_extension": ".py",
   "mimetype": "text/x-python",
   "name": "python",
   "nbconvert_exporter": "python",
   "pygments_lexer": "ipython3",
   "version": "3.7.4"
  }
 },
 "nbformat": 4,
 "nbformat_minor": 4
}
